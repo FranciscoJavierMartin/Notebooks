{
 "cells": [
  {
   "cell_type": "markdown",
   "metadata": {},
   "source": [
    "# Nociones basicas sobre Kotlin"
   ]
  },
  {
   "cell_type": "markdown",
   "metadata": {},
   "source": [
    "## Tipos de datos"
   ]
  },
  {
   "cell_type": "markdown",
   "metadata": {},
   "source": [
    "A diferencia de Java, donde existen tipos basicos como **int** o **char** y objetos que son instancias de una clase, en Kotlin todo es un objeto. Tampoco existe **void**, en su lugar existe la clase **Unit**, que debes usar cuando no vayas a retornar nada."
   ]
  },
  {
   "cell_type": "markdown",
   "metadata": {},
   "source": [
    "### Variables mutables e inmutables"
   ]
  },
  {
   "cell_type": "markdown",
   "metadata": {},
   "source": [
    "Una variable se dice que es mutable cuando es posible cambiar su contenido. Si por el contrario es constante, se dice que es inmutable."
   ]
  },
  {
   "cell_type": "code",
   "execution_count": 4,
   "metadata": {},
   "outputs": [],
   "source": [
    "var numero:Int=1\n",
    "numero=2\n",
    "val letra:Char='a'"
   ]
  },
  {
   "cell_type": "markdown",
   "metadata": {},
   "source": [
    "### Comprobacion de tipos"
   ]
  },
  {
   "cell_type": "markdown",
   "metadata": {},
   "source": [
    "Es posible comprobar en tiempo de ejecución el tipo de una variable."
   ]
  },
  {
   "cell_type": "code",
   "execution_count": 6,
   "metadata": {},
   "outputs": [
    {
     "data": {
      "text/plain": [
       "true"
      ]
     },
     "execution_count": 6,
     "metadata": {},
     "output_type": "execute_result"
    }
   ],
   "source": [
    "1 is Int"
   ]
  },
  {
   "cell_type": "markdown",
   "metadata": {},
   "source": [
    "### Conversion de tipos"
   ]
  },
  {
   "cell_type": "code",
   "execution_count": 10,
   "metadata": {},
   "outputs": [
    {
     "data": {
      "text/plain": [
       "Hola mundo"
      ]
     },
     "execution_count": 10,
     "metadata": {},
     "output_type": "execute_result"
    }
   ],
   "source": [
    "1.toByte() //Existen funciones similares para los demas tipos\n",
    "\"Hola mundo\" as String //Casting"
   ]
  },
  {
   "cell_type": "markdown",
   "metadata": {},
   "source": [
    "En Kotlin existe lo que se denomina *Smart casting*. Si la condición booleana para entrar a un trozo de código es que una variable sea de ese tipo, dentro de ese bloque de código no será necesario castearla."
   ]
  },
  {
   "cell_type": "code",
   "execution_count": 11,
   "metadata": {},
   "outputs": [],
   "source": [
    "val a:String=\"Hola\"\n",
    "\n",
    "if (a is String) {\n",
    "  val result = a.substring(1)\n",
    "}"
   ]
  },
  {
   "cell_type": "markdown",
   "metadata": {},
   "source": [
    "### Arrays"
   ]
  },
  {
   "cell_type": "code",
   "execution_count": 15,
   "metadata": {},
   "outputs": [],
   "source": [
    "var miArray=arrayOf(1,2,3,4) //Array inicializado con valores\n",
    "var miArrayDeNulos=arrayOfNulls<Int>(10) //Array de 10 posiciones que solo admite enteros e inicializados todas a null"
   ]
  },
  {
   "cell_type": "markdown",
   "metadata": {},
   "source": [
    "### Strings"
   ]
  },
  {
   "cell_type": "markdown",
   "metadata": {},
   "source": [
    "En Kotlin existen los strings multilinea que se consiguen entrecomillando 3 veces el string. Ademas existen los strings templates que permiten incluir el contenido de una variable dentro de un string."
   ]
  },
  {
   "cell_type": "code",
   "execution_count": 1,
   "metadata": {},
   "outputs": [
    {
     "name": "stdout",
     "output_type": "stream",
     "text": [
      "String literal: \n",
      "    Hola\n",
      "    Adios\n",
      "    \n",
      "String template: Hola Pepe\n"
     ]
    }
   ],
   "source": [
    "val cad1=\"\"\"\n",
    "    Hola\n",
    "    Adios\n",
    "    \"\"\"\n",
    "//Eso incluye los tabuladores\n",
    "\n",
    "val nombre=\"Pepe\"\n",
    "\n",
    "val cad2=\"Hola ${nombre}\"\n",
    "println(\"String literal: \"+cad1)//Se usa concatenacion aunque no se debería usar\n",
    "println(\"String template: \"+cad2) //Se usa concatenacion aunque no se debería usar"
   ]
  },
  {
   "cell_type": "markdown",
   "metadata": {},
   "source": [
    "### Operador Elvis"
   ]
  },
  {
   "cell_type": "code",
   "execution_count": null,
   "metadata": {},
   "outputs": [],
   "source": [
    "val miVariable=10\n",
    "miVariable?.toFloat() //Si es null, devuelve null\n",
    "miVariable?.toFloat() ?: \"Error\" //Si es null, devuelve \"Error\"\n",
    "miVariable!!.toFloat() //Estamos seguros de que no es null, si lo fuera lanza NullPointerException"
   ]
  },
  {
   "cell_type": "markdown",
   "metadata": {},
   "source": [
    "## Null"
   ]
  },
  {
   "cell_type": "markdown",
   "metadata": {},
   "source": [
    "Existen algunos casos en los que se lanza un `NullPointerException`. Estos casos son los siguiente:\n",
    "\n",
    "- Llamada explicita a `NullPointerException`"
   ]
  },
  {
   "cell_type": "code",
   "execution_count": null,
   "metadata": {},
   "outputs": [],
   "source": [
    "throw NullPointerException()"
   ]
  },
  {
   "cell_type": "markdown",
   "metadata": {},
   "source": [
    "- Uso del operador !!"
   ]
  },
  {
   "cell_type": "code",
   "execution_count": null,
   "metadata": {},
   "outputs": [],
   "source": [
    "val var1:String?=null\n",
    "var1.toString() //Devuelve null si var1 es nulo\n",
    "var1!!.toString() //Devuelve NullPointerException si var1 es nulo"
   ]
  },
  {
   "cell_type": "markdown",
   "metadata": {},
   "source": [
    "- Código externo en Java. Si utilizas una librería escrita en Java es posible que esta lanze NullPointerException.\n",
    "- En Kotlin, existe el modificador `lateinit`. El uso de ese modificador puede ocasionar algunas inconsistencias en la inicialización y desembocar en un `NullPointerException`"
   ]
  },
  {
   "cell_type": "markdown",
   "metadata": {},
   "source": [
    "## Operadores"
   ]
  },
  {
   "cell_type": "markdown",
   "metadata": {},
   "source": [
    "En Kotlin existen dos operadores para comprobar la igualdad entre dos objetos. El operador `==` que comprueba si dos objetos son iguales estructuralmente (equivalente a equals) y el operador `===` que comprueba si dos objetos referencian al mismo objeto.\n",
    "\n",
    "Si se desea usar el operador `==` se recomienda sobreescribir el método `equals(other: Any?)`."
   ]
  },
  {
   "cell_type": "markdown",
   "metadata": {},
   "source": [
    "## Control de flujo"
   ]
  },
  {
   "cell_type": "markdown",
   "metadata": {},
   "source": [
    "En Kotlin no existe *switch*, en su lugar existe *when*"
   ]
  },
  {
   "cell_type": "code",
   "execution_count": 3,
   "metadata": {},
   "outputs": [
    {
     "name": "stdout",
     "output_type": "stream",
     "text": [
      "Vale uno"
     ]
    }
   ],
   "source": [
    "var x=1\n",
    "\n",
    "when(x){\n",
    "    1->print(\"Vale uno\") //Si vale 1\n",
    "    2,3->print(\"Vale dos o tres\") //Si vale 2 ó 3\n",
    "    else->print(\"Vale otro\") //Se ejecuta si no se ejecuta ningún otro. No es obligatorio\n",
    "}"
   ]
  },
  {
   "cell_type": "markdown",
   "metadata": {},
   "source": [
    "El valor devuelto en un *when* es posible almacenarlo en una variable. Esto se puede hacer siempre y cuando no se le pasen argumentos al *when*."
   ]
  },
  {
   "cell_type": "code",
   "execution_count": 11,
   "metadata": {},
   "outputs": [],
   "source": [
    "val numero=1\n",
    "\n",
    "val esPar=when{\n",
    "    (numero % 2==0) -> true\n",
    "    else -> false\n",
    "}"
   ]
  },
  {
   "cell_type": "markdown",
   "metadata": {},
   "source": [
    "## Bucles"
   ]
  },
  {
   "cell_type": "code",
   "execution_count": 16,
   "metadata": {},
   "outputs": [
    {
     "name": "stdout",
     "output_type": "stream",
     "text": [
      "12345\n",
      "Indice: 0 Valor: 1\n",
      "Indice: 1 Valor: 2\n",
      "Indice: 2 Valor: 3\n",
      "Indice: 3 Valor: 4\n",
      "Indice: 4 Valor: 5\n"
     ]
    }
   ],
   "source": [
    "val numbers=arrayOf(1,2,3,4,5)\n",
    "\n",
    "for(numero:Int in numbers){ //La especificación del tipo es opcional\n",
    "    print(numero)\n",
    "}\n",
    "\n",
    "println() //Es para hacer salto de linea\n",
    "\n",
    "//Con indices\n",
    "for((indice,numero) in numbers.withIndex()){\n",
    "    println(\"Indice: \"+indice+\" Valor: \"+numero)\n",
    "}"
   ]
  },
  {
   "cell_type": "markdown",
   "metadata": {},
   "source": [
    "Los bucles *while* y *do while* son identicos a como se hacen en Java."
   ]
  },
  {
   "cell_type": "markdown",
   "metadata": {},
   "source": [
    "## Modificadores de acceso"
   ]
  },
  {
   "cell_type": "markdown",
   "metadata": {},
   "source": [
    "En Kotlin si quieres que una clase sea heredada por otra debes declararla como `open`."
   ]
  },
  {
   "cell_type": "markdown",
   "metadata": {},
   "source": [
    "## Herencia"
   ]
  },
  {
   "cell_type": "markdown",
   "metadata": {},
   "source": [
    "Para heredar de una clase `open`."
   ]
  },
  {
   "cell_type": "code",
   "execution_count": null,
   "metadata": {},
   "outputs": [],
   "source": [
    "class Hijo:Padre"
   ]
  },
  {
   "cell_type": "markdown",
   "metadata": {},
   "source": [
    "## Constructores"
   ]
  },
  {
   "cell_type": "markdown",
   "metadata": {},
   "source": [
    "En Kotlin toda clase tiene un constructor primario obligatorio y varios constructores secundarios opcionales."
   ]
  },
  {
   "cell_type": "markdown",
   "metadata": {},
   "source": [
    "### Formas de declarar una clase"
   ]
  },
  {
   "cell_type": "code",
   "execution_count": 2,
   "metadata": {},
   "outputs": [],
   "source": [
    "class Clase1 //Sin atributos\n",
    "\n",
    "class Clase2 constructor(var atributo1:Int,val atributo2:String) //Se crea con esos atributos y son publicos\n",
    "\n",
    "class Clase3(var atributo1:Int,val atributo2:String) //constructor es opcional\n",
    "\n",
    "class Clase4(var atributo1:Int,val atributo2:String){\n",
    "    init{ //Este metodo se ejecuta despues del constructor primario y antes que los secundarios\n",
    "        atributo1=10 //En el se deben realizar las inicializaciones mas complejas\n",
    "    }\n",
    "}\n",
    "\n",
    "class Clase5(var atributo1:Int=10,val atributo2:String=\"Hola\") //Valores por defecto"
   ]
  },
  {
   "cell_type": "markdown",
   "metadata": {},
   "source": [
    "### Instanciación de una clase"
   ]
  },
  {
   "cell_type": "code",
   "execution_count": 3,
   "metadata": {},
   "outputs": [],
   "source": [
    "val c1=Clase1() //Sin parametros\n",
    "val c2=Clase2(10,\"Hola\") //Con todos los parametros\n",
    "val c5=Clase5(atributo1=10) //Solo con parametros aobligatorios. Hay que especificar a que atributo se le pasa."
   ]
  },
  {
   "cell_type": "markdown",
   "metadata": {},
   "source": [
    "### Constructores secundarios"
   ]
  },
  {
   "cell_type": "code",
   "execution_count": 7,
   "metadata": {},
   "outputs": [],
   "source": [
    "//Permiten declarar constructores por defecto y que la clase tenga atributos por defecto\n",
    "\n",
    "class Clase6(val atributo1:String,val atributo2:String){\n",
    "    \n",
    "    constructor():this(\"Valor1\",\"Valor2\")\n",
    "\n",
    "}\n",
    "\n",
    "val c6=Clase6() //Contendrá \"Valor1\" y \"Valor2\""
   ]
  },
  {
   "cell_type": "markdown",
   "metadata": {},
   "source": [
    "### `val`, `var` ó nada"
   ]
  },
  {
   "cell_type": "code",
   "execution_count": 10,
   "metadata": {},
   "outputs": [
    {
     "name": "stdout",
     "output_type": "stream",
     "text": [
      "Hola"
     ]
    }
   ],
   "source": [
    "class Clase7(atributo:String){ //Si un parametro del constructo no lleva var ni val\n",
    "    init{\n",
    "        print(atributo) //Pero si podrá ser accedido por init\n",
    "    }\n",
    "}\n",
    "\n",
    "val c7=Clase7(\"Hola\")"
   ]
  },
  {
   "cell_type": "markdown",
   "metadata": {},
   "source": [
    "### El uso de `field`"
   ]
  },
  {
   "cell_type": "code",
   "execution_count": 14,
   "metadata": {},
   "outputs": [],
   "source": [
    "//Si quieres redefinir los get y set de un atributo no puedes usar `this.atributo` debes usar `field`\n",
    "//Solo podemos redefinir los getters y setters de atributos que NO hemos definido en el constructor\n",
    "class UsoField{\n",
    "    var atributo:String=\"\" //Es un atributo que no viene declarado en el constructor\n",
    "        get()=field.capitalize() //Por ejemplo si queremos capitalizarlo\n",
    "        set(valor){\n",
    "            field=valor.capitalize() //Si queremos capitalizarlo antes de asignarlo\n",
    "        }\n",
    "}"
   ]
  },
  {
   "cell_type": "markdown",
   "metadata": {},
   "source": [
    "## Herencia"
   ]
  },
  {
   "cell_type": "markdown",
   "metadata": {},
   "source": [
    "### Constructores heredados"
   ]
  },
  {
   "cell_type": "code",
   "execution_count": 2,
   "metadata": {},
   "outputs": [],
   "source": [
    "open class Punto{\n",
    "    constructor(x:Int,y:Int) //Notar que no hay que agregar val ni var\n",
    "}\n",
    "\n",
    "class Particula:Punto{\n",
    "    constructor(x:Int,y:Int,masa:Int): super(x,y) //Notar que no hay que agregar val ni var\n",
    "}"
   ]
  },
  {
   "cell_type": "markdown",
   "metadata": {},
   "source": [
    "Si la clase hija contiene atributos con el mismo nombre que la clase padre, es necesario definir estos como *open* en la clase padre y sobreescribir estos atributos en la clase hija con *override*."
   ]
  },
  {
   "cell_type": "code",
   "execution_count": 16,
   "metadata": {},
   "outputs": [],
   "source": [
    "open class Padre(open var atributo:String)\n",
    "\n",
    "class Hijo(override var atributo:String):Padre(atributo)"
   ]
  },
  {
   "cell_type": "markdown",
   "metadata": {},
   "source": [
    "### Clases abstractas\n",
    "Funcionan igual que en Java."
   ]
  },
  {
   "cell_type": "markdown",
   "metadata": {},
   "source": [
    "## Data Classes\n",
    "Son clases equivalentes a los POJOs de Java. Para un buen uso se deben de cumplir unas serie de condiciones:\n",
    "- El constructor primario necesita tener al menos un parametro.\n",
    "- Todos los parametros del constructor deben estar marcados como *val* o *var*.\n",
    "- Las `Data classes` no pueden ser *abstract*, *open*, *sealed* o *inner*.\n",
    "\n",
    "Las *Data Classes* ya tienen implementaciones del método *toString()*. Tambien dispone de un método *copy()* que devuelve una copia del objeto en cuestión."
   ]
  },
  {
   "cell_type": "code",
   "execution_count": 19,
   "metadata": {},
   "outputs": [],
   "source": [
    "data class Usuario(val nombre:String,var password:String)\n",
    "\n",
    "val usuario=Usuario(\"Pepe\",\"perez\")\n",
    "val copiado=usuario.copy() //Copia con los mismos atributos\n",
    "val copia=usuario.copy(nombre=\"Jose\") //Copia pero con el atributo nombre cambiado\n",
    "val (nombre,password)=copia //Destructuring"
   ]
  },
  {
   "cell_type": "markdown",
   "metadata": {},
   "source": [
    "### Enumerados"
   ]
  },
  {
   "cell_type": "code",
   "execution_count": 20,
   "metadata": {},
   "outputs": [
    {
     "name": "stdout",
     "output_type": "stream",
     "text": [
      "UNO\n",
      "1\n",
      "UNO\n"
     ]
    }
   ],
   "source": [
    "enum class Numeros{CERO,UNO,DOS,TRES,CUATRO}\n",
    "println(Numeros.UNO) //Devuelve el valor UNO\n",
    "println(Numeros.UNO.ordinal) //Devuelve la posicion dentro del enumerado\n",
    "println(Numeros.UNO.name) //Devuelve el nombre, en este caso UNO"
   ]
  },
  {
   "cell_type": "markdown",
   "metadata": {},
   "source": [
    "## Funciones como parámetros"
   ]
  },
  {
   "cell_type": "code",
   "execution_count": 31,
   "metadata": {},
   "outputs": [
    {
     "name": "stdout",
     "output_type": "stream",
     "text": [
      "4\n"
     ]
    }
   ],
   "source": [
    "//Una forma\n",
    "\n",
    "fun printSum(n:Int,m:Int,printer:(result:Int)->Unit){\n",
    "    printer(n+m)\n",
    "}\n",
    "\n",
    "printSum(2,2){ result->\n",
    "    println(result)\n",
    "}\n"
   ]
  },
  {
   "cell_type": "markdown",
   "metadata": {},
   "source": [
    "## Extension functions\n",
    "Permiten agregar métodos a una clase, pero solo dentro del contexto en el que son declarados."
   ]
  },
  {
   "cell_type": "code",
   "execution_count": 30,
   "metadata": {},
   "outputs": [
    {
     "name": "stdout",
     "output_type": "stream",
     "text": [
      "Hola mundo\n"
     ]
    }
   ],
   "source": [
    "fun String.hola(){ //Agrega el método hola() a la clase String\n",
    "    println(\"Hola mundo\")\n",
    "}\n",
    "\n",
    "\"\".hola()"
   ]
  },
  {
   "cell_type": "code",
   "execution_count": null,
   "metadata": {},
   "outputs": [],
   "source": []
  }
 ],
 "metadata": {
  "kernelspec": {
   "display_name": "Kotlin",
   "language": "kotlin",
   "name": "kotlin"
  },
  "language_info": {
   "file_extension": "kt",
   "name": "kotlin"
  }
 },
 "nbformat": 4,
 "nbformat_minor": 2
}
