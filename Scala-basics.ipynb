{
 "cells": [
  {
   "cell_type": "markdown",
   "metadata": {},
   "source": [
    "# Tutorial sobre Scala"
   ]
  },
  {
   "cell_type": "markdown",
   "metadata": {},
   "source": [
    "## Declaraciones"
   ]
  },
  {
   "cell_type": "markdown",
   "metadata": {},
   "source": [
    "### Declaración de variables"
   ]
  },
  {
   "cell_type": "markdown",
   "metadata": {},
   "source": [
    "Existen dos categorias de variables: inmutables y mutables. Las variables mutables son aquellas en las que es posible modificar el contenido de la variable. Las variables inmutables son aquellas en las que no es posible alterar el contenido de las variables, se recomienda el uso de esta ultima. La declaración del tipo de la variable es opcional, Scala es capaz de inferir el tipo del dato."
   ]
  },
  {
   "cell_type": "code",
   "execution_count": null,
   "metadata": {},
   "outputs": [],
   "source": [
    "//Variable inmutable\n",
    "val a:Int=1\n",
    "\n",
    "//variable mutable\n",
    "var b:Int=2"
   ]
  },
  {
   "cell_type": "markdown",
   "metadata": {},
   "source": [
    "### Tipos de datos"
   ]
  },
  {
   "cell_type": "markdown",
   "metadata": {},
   "source": [
    "![Diagramas de tipos de datos](https://www.scala-lang.org/old/sites/default/files/images/classhierarchy.png)"
   ]
  },
  {
   "cell_type": "markdown",
   "metadata": {},
   "source": [
    "Siempre que se infiere un tipo en Scala, el tipo escogido será siempre el mas bajo posible en la jerarquía.\n",
    "\n",
    "Algunos tipos especiales:\n",
    "\n",
    "- **Any**: Es la clase de la que heredan todas las clases en Scala. Es la clase mas basica.\n",
    "- **AnyVal**: Es la clase padre de todas las clases que representan tipos primitivos.\n",
    "- **AnyRef**: Es la clase padre de todas las clases que no representan tipos primitivos. Todas las subclases de Scala y Java heredan de ella.\n",
    "- **ScalaObject**: Es la clase de la que heredan todas y solo las clases de Scala.\n",
    "- **Unit**: Equivale a `void`. Usar cuando una función no debe retornar ningún valor.\n",
    "- **Nothing**: Es la clase que hereda de todas las clases. Usar solo cuando no acaba la ejecución como en `While(true)`."
   ]
  },
  {
   "cell_type": "markdown",
   "metadata": {},
   "source": [
    "### Declaración de funciones"
   ]
  },
  {
   "cell_type": "code",
   "execution_count": null,
   "metadata": {},
   "outputs": [],
   "source": [
    "def funcion1(a:Int,b:Int):Int={\n",
    "    return a+b\n",
    "}"
   ]
  },
  {
   "cell_type": "code",
   "execution_count": null,
   "metadata": {},
   "outputs": [],
   "source": [
    "def funcion2(a:Int,b:Int)={\n",
    "    a+b\n",
    "}"
   ]
  },
  {
   "cell_type": "code",
   "execution_count": null,
   "metadata": {},
   "outputs": [],
   "source": [
    "def funcion3(a:Int,b:Int)=a+b"
   ]
  },
  {
   "cell_type": "markdown",
   "metadata": {},
   "source": [
    "Al igual que con la declaración de variables no es obligatorio declarar el tipo devuelto por la función. Si no se declara una sentencia `return`, el valor de la ultima instrucción es el devuelto por la función."
   ]
  },
  {
   "cell_type": "markdown",
   "metadata": {},
   "source": [
    "### Interpolación de cadenas\n",
    "La interpolación de cadenas consiste insertar el valor de una variable dentro de una cadena, tambien es posible usar expresiones. "
   ]
  },
  {
   "cell_type": "code",
   "execution_count": 1,
   "metadata": {},
   "outputs": [
    {
     "name": "stdout",
     "output_type": "stream",
     "text": [
      "El valor de la variable 1 y la expresion vale 3\n"
     ]
    },
    {
     "data": {
      "text/plain": [
       "\u001b[36mvalor\u001b[39m: \u001b[32mInt\u001b[39m = \u001b[32m1\u001b[39m\n",
       "\u001b[36mexpresion\u001b[39m: \u001b[32mInt\u001b[39m = \u001b[32m2\u001b[39m"
      ]
     },
     "execution_count": 1,
     "metadata": {},
     "output_type": "execute_result"
    }
   ],
   "source": [
    "val valor=1\n",
    "val expresion=2\n",
    "\n",
    "println(s\"El valor de la variable ${valor} y la expresion vale ${expresion+1}\") "
   ]
  },
  {
   "cell_type": "markdown",
   "metadata": {},
   "source": [
    "## Estructuras de selección"
   ]
  },
  {
   "cell_type": "markdown",
   "metadata": {},
   "source": [
    "### If/Else"
   ]
  },
  {
   "cell_type": "code",
   "execution_count": null,
   "metadata": {},
   "outputs": [],
   "source": [
    "//Funciona igual que en Java\n",
    "val verdad:Boolean=true;\n",
    "\n",
    "if (verdad){\n",
    "    println(\"Hola\")\n",
    "}else{\n",
    "    println(\"Adios\") \n",
    "}\n"
   ]
  },
  {
   "cell_type": "markdown",
   "metadata": {},
   "source": [
    "En Scala no existe la estructura `switch`, en su lugar existe lo conocido como *pattern matching*"
   ]
  },
  {
   "cell_type": "markdown",
   "metadata": {},
   "source": [
    "### Match"
   ]
  },
  {
   "cell_type": "code",
   "execution_count": null,
   "metadata": {},
   "outputs": [],
   "source": [
    "val numero:Int=3\n",
    "\n",
    "val nombre=numero match{ //Puede ir dentro de la llamada a una funcion\n",
    "    case 1=> \"Uno\"\n",
    "    case 2=> \"Dos\"\n",
    "    case 3=> \"Tres\"\n",
    "    case _=> \"Ninguno\" //Es obligatorio incluir una clausula con _ que se ejecuta cuando no hay coincidencia\n",
    "}\n",
    "\n",
    "println(nombre)"
   ]
  },
  {
   "cell_type": "markdown",
   "metadata": {},
   "source": [
    "## Estructuras de repetición"
   ]
  },
  {
   "cell_type": "markdown",
   "metadata": {},
   "source": [
    "### Bucle *While*"
   ]
  },
  {
   "cell_type": "code",
   "execution_count": null,
   "metadata": {},
   "outputs": [],
   "source": [
    "//Igual que en Java\n",
    "var x=0\n",
    "\n",
    "while(x<5){\n",
    "    print(x)\n",
    "    x+=1\n",
    "}"
   ]
  },
  {
   "cell_type": "markdown",
   "metadata": {},
   "source": [
    "### Bucle *Do While*"
   ]
  },
  {
   "cell_type": "code",
   "execution_count": null,
   "metadata": {},
   "outputs": [],
   "source": [
    "//Igual que en Java\n",
    "var x=0\n",
    "\n",
    "do{\n",
    "    print(x)\n",
    "    x+=1\n",
    "}while(x<5)"
   ]
  },
  {
   "cell_type": "markdown",
   "metadata": {},
   "source": [
    "### Bucle *For*"
   ]
  },
  {
   "cell_type": "code",
   "execution_count": null,
   "metadata": {},
   "outputs": [],
   "source": [
    "println(\"For to\")\n",
    "for(i<- 1 to 5){ //Hasta el limite inclusive\n",
    "    print(i)\n",
    "}\n",
    "\n",
    "println(\"\\nFor until\")\n",
    "for(i<- 1 until 5){ //Hasta el limite exclusive\n",
    "    print(i)\n",
    "}\n",
    "\n",
    "println(\"\\nFor para colecciones\")\n",
    "for(i <- List(1,2,3,4)){ //For para recorrer colecciones\n",
    "    print(i)\n",
    "}"
   ]
  },
  {
   "cell_type": "markdown",
   "metadata": {},
   "source": [
    "### *foreach*"
   ]
  },
  {
   "cell_type": "code",
   "execution_count": null,
   "metadata": {},
   "outputs": [],
   "source": [
    "val lista=List(1,2,3,4)\n",
    "\n",
    "lista.foreach(x=> print(x)) //La funcion no devuelve nada y no modifica el conjunto"
   ]
  },
  {
   "cell_type": "markdown",
   "metadata": {},
   "source": [
    "## Clases"
   ]
  },
  {
   "cell_type": "markdown",
   "metadata": {},
   "source": [
    "### Indicaciones previas\n",
    "Se deben declarar entre parentesis todos los atributos que vaya a usar la clase. Se pueden declarar otros constructores mediante la definición de this, pero siempre se debe llamar al constructor por defecto que es el que contiene todos los atributos.\n",
    "\n",
    "Los parametros de un constructor constituyen los atributos de la clase y son privados por defecto, si se desea que sean públicos, se debe agregar val (o var) en la declaracion del argumento. Tambien es posible declarar atributos dentro de la propia clase. Estos pueden llevar los modificadores de `public`, `private` o `readonly`."
   ]
  },
  {
   "cell_type": "markdown",
   "metadata": {},
   "source": [
    "### Constructor por defecto"
   ]
  },
  {
   "cell_type": "code",
   "execution_count": null,
   "metadata": {},
   "outputs": [],
   "source": [
    "//Declaracion de clases\n",
    "class Saludo(mensaje: String) { //Estos son los atributos y son accesibles desde cualquier metodo de la clase\n",
    "        \n",
    "    def diHola(nombre:String):Unit ={\n",
    "        println(mensaje+\" \"+nombre);\n",
    "    }\n",
    "}\n",
    "\n",
    "val saludo = new Saludo(\"Hola\")\n",
    "saludo.diHola(\"Pepe\")"
   ]
  },
  {
   "cell_type": "markdown",
   "metadata": {},
   "source": [
    "### Constructor propio"
   ]
  },
  {
   "cell_type": "code",
   "execution_count": null,
   "metadata": {},
   "outputs": [],
   "source": [
    "class OtroSaludo(m:String,nombre:String){ //Se deben declarar todos los atributos que se vayan a usar\n",
    "    \n",
    "    def this()={\n",
    "        this(\"Hola\",\"Pepe\") //Siempre se debe llamar al constructor por defecto\n",
    "    }\n",
    "    \n",
    "    def this(mensaje:String){\n",
    "        this(\"Hola\",\"Jose\")\n",
    "    }\n",
    "    \n",
    "    def saludar()={\n",
    "        println(this.m+\" \"+nombre)\n",
    "    }\n",
    "\n",
    "}\n",
    "\n",
    "val sal=new OtroSaludo()\n",
    "sal.saludar()"
   ]
  },
  {
   "cell_type": "markdown",
   "metadata": {},
   "source": [
    "### Herencia"
   ]
  },
  {
   "cell_type": "code",
   "execution_count": null,
   "metadata": {},
   "outputs": [],
   "source": [
    "class Punto(var x:Int,var y:Int){\n",
    "    \n",
    "    def mover(dx:Int,dy:Int):Unit={\n",
    "        this.x=dx\n",
    "        this.y=dy\n",
    "    }\n",
    "}\n",
    "\n",
    "class Particula(x:Int,y:Int,masa:Int) extends Punto(x:Int,y:Int){\n",
    "    \n",
    "    override def toString():String={ //Para redefinir un metodo de una clase padre agregar override\n",
    "        return s\"X:${this.x} Y:${this.y} M:${this.masa}\";\n",
    "    }\n",
    "    \n",
    "}\n",
    "\n",
    "val particula=new Particula(0,0,0);\n",
    "particula.mover(1,1)\n",
    "println(particula.toString())"
   ]
  },
  {
   "cell_type": "markdown",
   "metadata": {},
   "source": [
    "### Clases abstractas"
   ]
  },
  {
   "cell_type": "code",
   "execution_count": null,
   "metadata": {},
   "outputs": [],
   "source": [
    "abstract class Figura(lado:Int){\n",
    "    \n",
    "    def getPerimetro():Double; //Metodo sin implementacion\n",
    "    \n",
    "    def printLado():Unit= println(\"El lado mide \"+this.lado) //Metodo implementado\n",
    "}\n",
    "\n",
    "class Cuadrado(lado:Int,n:Int) extends Figura(lado:Int){\n",
    "    \n",
    "    override def getPerimetro():Double={\n",
    "        return lado*lado;\n",
    "    }\n",
    "}\n",
    "\n",
    "val figura:Figura=new Cuadrado(4,0)\n",
    "println(\"El perimetro es \"+figura.getPerimetro())\n",
    "figura.printLado();"
   ]
  },
  {
   "cell_type": "markdown",
   "metadata": {},
   "source": [
    "## Traits"
   ]
  },
  {
   "cell_type": "markdown",
   "metadata": {},
   "source": [
    "Son similares a las interfaces de otros lenguajes de programación. Sin embargo cuenta con dos principales diferencias respecto de las interfaces:\n",
    "- Pueden ser parcialmente implementadas como ocurre en las clases abstractas.\n",
    "- No pueden tener parametros en el constructor."
   ]
  },
  {
   "cell_type": "code",
   "execution_count": null,
   "metadata": {},
   "outputs": [],
   "source": [
    "trait Correo{\n",
    "    def enviar():Unit;\n",
    "    def recibir(mensaje:String):Unit={\n",
    "        println(s\"Mensaje recibido: ${mensaje}\")\n",
    "    }\n",
    "}\n",
    "\n",
    "class CorreoPostal() extends Correo{\n",
    "    \n",
    "    override def enviar()={\n",
    "        println(\"Enviado desde correo postal\")\n",
    "    }\n",
    "}\n",
    "\n",
    "class CorreoElectronico(usuario:String) extends Correo{\n",
    "    \n",
    "    override def enviar()={\n",
    "        println(s\"Enviado por ${usuario}\")\n",
    "    }\n",
    "}\n",
    "\n",
    "val carta:Correo=new CorreoPostal()\n",
    "val email:Correo=new CorreoElectronico(\"pepe\")\n",
    "\n",
    "carta.enviar()\n",
    "carta.recibir(\"Hola desde carta\")\n",
    "\n",
    "email.enviar()\n",
    "email.recibir(\"Hola desde email\")\n"
   ]
  },
  {
   "cell_type": "markdown",
   "metadata": {},
   "source": [
    "## Colecciones"
   ]
  },
  {
   "cell_type": "markdown",
   "metadata": {},
   "source": [
    "Las colecciones por defecto incluidas son inmutables, no se puede agregar ni eliminar elementos. Las operaciones como *add* y similares lo que hacen es devolver una nueva colección con los nuevos elementos. Al crear la nueva colección se agregan las referencias de los objetos y por tanto casi no tiene penalización en tiempo de ejecución y en consumo de memoria."
   ]
  },
  {
   "cell_type": "code",
   "execution_count": null,
   "metadata": {},
   "outputs": [],
   "source": [
    "val lista=List(1,2,3) //Lista inmutable\n",
    "0::lista //Devuelve una lista con el nuevo elemento insertado al principio\n",
    "lista.head //Devuelve el primer elemento de la lista\n",
    "lista.tail //Devuelve toda la lista excepto el primer elemento\n",
    "lista:::lista //Concatena dos listas y devuelve el resultado"
   ]
  },
  {
   "cell_type": "markdown",
   "metadata": {},
   "source": [
    "### Operaciones y funciones sobre conjuntos (y similares)"
   ]
  },
  {
   "cell_type": "code",
   "execution_count": null,
   "metadata": {},
   "outputs": [],
   "source": [
    "val conjunto=Set(1,2,3)\n",
    "\n",
    "val conjunto2=conjunto.map(x => x+3) //Ejecuta la funcion que se le pasa a cada miembro de la coleccion\n",
    "\n",
    "val conjunto3=List(conjunto,conjunto2).flatten //Crea una nueva coleccion con los elementos de las sub-colecciones\n",
    "\n",
    "Set(1,4,9).flatMap { x => Set(x,x+1) } //FlatMap\n",
    "\n",
    "val lista=(List(1,2,3)++List(1,2,3))\n",
    "lista.distinct //Devuelve una lista con todos los elementos distintos\n",
    "\n",
    "Set(1,2,3)(1) //Devuelve true si el elemento esta contenido en la coleccion, false en caso contrario\n",
    "List(4,5,6)(1) //Devuelve el elemento de la posicion indicada\n",
    "\n",
    "val conjuntoImpares=conjunto.filter(x => x%2!=0) //Devuelve otro conjunto con los elementos que superen el filtro\n",
    "\n",
    "val escalar:Int=1\n",
    "\n",
    "//Para conjuntos inmutables\n",
    "conjunto+escalar //Agrega el elemento al conjunto y devuelve una copia\n",
    "conjunto++conjunto2 //Union de conjuntos\n",
    "conjunto-escalar //Extrae del conjunto\n",
    "conjunto--conjunto2 //Diferencia de conjuntos\n",
    "conjunto&conjunto2 //Interseccion\n",
    "\n",
    "//Solo para conjuntos mutables\n",
    "val conjuntoMutable=scala.collection.mutable.Set(1,2,3)\n",
    "val conjuntoMutable2=scala.collection.mutable.Set(3,4,5)\n",
    "\n",
    "conjuntoMutable+= escalar //Agrega el valor al conjunto\n",
    "conjuntoMutable++=conjuntoMutable2 //Agrega los elementos del segundo conjunto al primero\n",
    "conjuntoMutable retain { x=> x%2==0} //Se queda solo con los elementos que cumplan la condicion"
   ]
  },
  {
   "cell_type": "markdown",
   "metadata": {},
   "source": [
    "## Mapas"
   ]
  },
  {
   "cell_type": "markdown",
   "metadata": {},
   "source": [
    "Son estructuras clave/valor similares a los Mapas de Java o los diccionarios de Python."
   ]
  },
  {
   "cell_type": "code",
   "execution_count": null,
   "metadata": {},
   "outputs": [],
   "source": [
    "val mapa=Map(1->\"Uno\",2->\"Dos\",3->\"Tres\")"
   ]
  },
  {
   "cell_type": "code",
   "execution_count": null,
   "metadata": {},
   "outputs": [],
   "source": []
  }
 ],
 "metadata": {
  "kernelspec": {
   "display_name": "Scala",
   "language": "scala",
   "name": "scala"
  },
  "language_info": {
   "codemirror_mode": "text/x-scala",
   "file_extension": ".scala",
   "mimetype": "text/x-scala",
   "name": "scala211",
   "nbconvert_exporter": "script",
   "pygments_lexer": "scala",
   "version": "2.11.11"
  }
 },
 "nbformat": 4,
 "nbformat_minor": 2
}
